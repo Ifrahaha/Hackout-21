{
  "nbformat": 4,
  "nbformat_minor": 0,
  "metadata": {
    "colab": {
      "name": "Hackout'21.ipynb",
      "provenance": [],
      "collapsed_sections": []
    },
    "kernelspec": {
      "name": "python3",
      "display_name": "Python 3"
    },
    "language_info": {
      "name": "python"
    }
  },
  "cells": [
    {
      "cell_type": "code",
      "metadata": {
        "id": "1jMv40iy5X0N"
      },
      "source": [
        "import numpy as np\n",
        "import matplotlib.pyplot as plt\n",
        "import pandas as pd"
      ],
      "execution_count": null,
      "outputs": []
    },
    {
      "cell_type": "code",
      "metadata": {
        "colab": {
          "base_uri": "https://localhost:8080/"
        },
        "id": "s9gl1X7X5pRD",
        "outputId": "1fbc2ca5-ad6c-42b9-a214-ad37a92ab025"
      },
      "source": [
        "!pip install --upgrade -q kaggle\n",
        "\n",
        "!mkdir /root/.kaggle\n",
        "import json\n",
        "token = {\n",
        "    \"username\": \"zahidhussain909\",\n",
        "    \"key\": \"39a06efd89d0f2a699143b8d3d62b216\"\n",
        "}\n",
        "\n",
        "with open('/root/.kaggle/kaggle.json', 'w') as config_file:\n",
        "    json.dump(token, config_file)\n",
        "!chmod 600 /root/.kaggle/kaggle.json\n",
        "\n",
        "!kaggle datasets download -d captaintyping/healthcare-domain-dataset"
      ],
      "execution_count": null,
      "outputs": [
        {
          "output_type": "stream",
          "text": [
            "Downloading healthcare-domain-dataset.zip to /content\n",
            "\r  0% 0.00/29.6k [00:00<?, ?B/s]\n",
            "\r100% 29.6k/29.6k [00:00<00:00, 53.8MB/s]\n"
          ],
          "name": "stdout"
        }
      ]
    },
    {
      "cell_type": "code",
      "metadata": {
        "id": "y3o1_REkiuu7"
      },
      "source": [
        "import zipfile\n",
        "zipfile=zipfile.ZipFile('/content/healthcare-domain-dataset.zip','r')\n",
        "zipfile.extractall()\n",
        "zipfile.close()"
      ],
      "execution_count": null,
      "outputs": []
    },
    {
      "cell_type": "code",
      "metadata": {
        "id": "AOWLZNVS5cVQ"
      },
      "source": [
        "train = pd.read_csv('Training.csv')\n",
        "test = pd.read_csv('Testing.csv')"
      ],
      "execution_count": null,
      "outputs": []
    },
    {
      "cell_type": "code",
      "metadata": {
        "id": "mA8pLhEpnN7B"
      },
      "source": [
        "X =  train.drop(\"prognosis\" , axis=1)\n",
        "y = train.prognosis"
      ],
      "execution_count": null,
      "outputs": []
    },
    {
      "cell_type": "code",
      "metadata": {
        "id": "UOs2imud59rL"
      },
      "source": [
        "dimensionality_reduction = train.groupby(train['prognosis']).max()"
      ],
      "execution_count": null,
      "outputs": []
    },
    {
      "cell_type": "code",
      "metadata": {
        "id": "ni31Au216a59"
      },
      "source": [
        "from sklearn.preprocessing import LabelEncoder\n",
        "labelencoder = LabelEncoder()\n",
        "y = labelencoder.fit_transform(y)"
      ],
      "execution_count": null,
      "outputs": []
    },
    {
      "cell_type": "code",
      "metadata": {
        "id": "ufOufM9h6ePU"
      },
      "source": [
        "from sklearn.model_selection import train_test_split\n",
        "X_train, X_test, y_train, y_test = train_test_split(X, y, test_size = 0.3, random_state = 0)"
      ],
      "execution_count": null,
      "outputs": []
    },
    {
      "cell_type": "code",
      "metadata": {
        "colab": {
          "base_uri": "https://localhost:8080/"
        },
        "id": "v50UwxVI6mvb",
        "outputId": "52536c1d-c675-4862-978c-081fbb460b25"
      },
      "source": [
        "from sklearn.tree import DecisionTreeClassifier\n",
        "classifier = DecisionTreeClassifier()\n",
        "classifier.fit(X_train, y_train)"
      ],
      "execution_count": null,
      "outputs": [
        {
          "output_type": "execute_result",
          "data": {
            "text/plain": [
              "DecisionTreeClassifier(ccp_alpha=0.0, class_weight=None, criterion='gini',\n",
              "                       max_depth=None, max_features=None, max_leaf_nodes=None,\n",
              "                       min_impurity_decrease=0.0, min_impurity_split=None,\n",
              "                       min_samples_leaf=1, min_samples_split=2,\n",
              "                       min_weight_fraction_leaf=0.0, presort='deprecated',\n",
              "                       random_state=None, splitter='best')"
            ]
          },
          "metadata": {},
          "execution_count": 9
        }
      ]
    },
    {
      "cell_type": "code",
      "metadata": {
        "id": "m7P63xiq6tgR"
      },
      "source": [
        "cols     = train.columns\n",
        "cols     = cols[:-1]"
      ],
      "execution_count": null,
      "outputs": []
    },
    {
      "cell_type": "code",
      "metadata": {
        "id": "AC_hC7-I6yP7"
      },
      "source": [
        "imp_features = classifier.feature_importances_\n",
        "indices = np.argsort(imp_features)[::-1]\n",
        "features = cols"
      ],
      "execution_count": null,
      "outputs": []
    },
    {
      "cell_type": "code",
      "metadata": {
        "id": "Z5KbYwLt7pyO"
      },
      "source": [
        "from sklearn.tree import _tree"
      ],
      "execution_count": null,
      "outputs": []
    },
    {
      "cell_type": "code",
      "metadata": {
        "id": "eyrH-0Sx7sFi"
      },
      "source": [
        "def execute_bot():\n",
        "\n",
        "    print(\"Please reply with yes/Yes or no/No for the following symptoms\") \n",
        "    def print_disease(node):\n",
        "        #print(node)\n",
        "        node = node[0]\n",
        "        #print(len(node))\n",
        "        val  = node.nonzero() \n",
        "        #print(val)\n",
        "        disease = labelencoder.inverse_transform(val[0])\n",
        "        return disease\n",
        "    def tree_to_code(tree, feature_names):\n",
        "        tree_ = tree.tree_\n",
        "        #print(tree_)\n",
        "        feature_name = [\n",
        "            feature_names[i] if i != _tree.TREE_UNDEFINED else \"undefined!\"\n",
        "            for i in tree_.feature\n",
        "        ]\n",
        "        #print(\"def tree({}):\".format(\", \".join(feature_names)))\n",
        "        symptoms_present = []\n",
        "        def recurse(node, depth):\n",
        "            indent = \"  \" * depth\n",
        "            if tree_.feature[node] != _tree.TREE_UNDEFINED:\n",
        "                name = feature_name[node]\n",
        "                threshold = tree_.threshold[node]\n",
        "                print(name + \" ?\")\n",
        "                ans = input()\n",
        "                ans = ans.lower()\n",
        "                if ans == 'yes':\n",
        "                    val = 1\n",
        "                else:\n",
        "                    val = 0\n",
        "                if  val <= threshold:\n",
        "                    recurse(tree_.children_left[node], depth + 1)\n",
        "                else:\n",
        "                    symptoms_present.append(name)\n",
        "                    recurse(tree_.children_right[node], depth + 1)\n",
        "            else:\n",
        "                present_disease = print_disease(tree_.value[node])\n",
        "                print( \"You may have \" +  present_disease )\n",
        "                print()\n",
        "                red_cols = dimensionality_reduction.columns \n",
        "                symptoms_given = red_cols[dimensionality_reduction.loc[present_disease].values[0].nonzero()]\n",
        "                print(\"symptoms present  \" + str(list(symptoms_present)))\n",
        "                print()\n",
        "                print(\"symptoms given \"  +  str(list(symptoms_given)) )  \n",
        "                print()\n",
        "                confidence_level = (1.0*len(symptoms_present))/len(symptoms_given)\n",
        "                print(\"confidence level is \" + str(confidence_level))\n",
        "                print()\n",
        "                print('The model suggests:')\n",
        "                print()\n",
        "                row = doctors[doctors['disease'] == present_disease[0]]\n",
        "                print('Consult ', str(row['name'].values))\n",
        "                print()\n",
        "                print('Visit ', str(row['link'].values))\n",
        "                #print(present_disease[0])\n",
        "                \n",
        "    \n",
        "        recurse(0, 1)\n",
        "    \n",
        "    tree_to_code(classifier,cols)"
      ],
      "execution_count": null,
      "outputs": []
    },
    {
      "cell_type": "code",
      "metadata": {
        "colab": {
          "base_uri": "https://localhost:8080/"
        },
        "id": "_onmmc1F9GRD",
        "outputId": "bbf462a5-be7a-49c6-de89-6516f86b7421"
      },
      "source": [
        "!wget https://raw.githubusercontent.com/aryanveturekar/Health-Care-Chat-Bot/master/doctors_dataset.csv"
      ],
      "execution_count": null,
      "outputs": [
        {
          "output_type": "stream",
          "text": [
            "--2021-08-27 19:16:28--  https://raw.githubusercontent.com/aryanveturekar/Health-Care-Chat-Bot/master/doctors_dataset.csv\n",
            "Resolving raw.githubusercontent.com (raw.githubusercontent.com)... 185.199.108.133, 185.199.109.133, 185.199.110.133, ...\n",
            "Connecting to raw.githubusercontent.com (raw.githubusercontent.com)|185.199.108.133|:443... connected.\n",
            "HTTP request sent, awaiting response... 200 OK\n",
            "Length: 6048 (5.9K) [text/plain]\n",
            "Saving to: ‘doctors_dataset.csv’\n",
            "\n",
            "\rdoctors_dataset.csv   0%[                    ]       0  --.-KB/s               \rdoctors_dataset.csv 100%[===================>]   5.91K  --.-KB/s    in 0s      \n",
            "\n",
            "2021-08-27 19:16:28 (78.1 MB/s) - ‘doctors_dataset.csv’ saved [6048/6048]\n",
            "\n"
          ],
          "name": "stdout"
        }
      ]
    },
    {
      "cell_type": "code",
      "metadata": {
        "colab": {
          "base_uri": "https://localhost:8080/"
        },
        "id": "ekQ32bQG8pWy",
        "outputId": "4e027336-8387-4f9e-b182-b994ba4c8cf1"
      },
      "source": [
        "doc_dataset = pd.read_csv('doctors_dataset.csv', names = ['Name', 'Description'])\n",
        "\n",
        "\n",
        "diseases = dimensionality_reduction.index\n",
        "diseases = pd.DataFrame(diseases)\n",
        "\n",
        "doctors = pd.DataFrame()\n",
        "doctors['name'] = np.nan\n",
        "doctors['link'] = np.nan\n",
        "doctors['disease'] = np.nan\n",
        "\n",
        "doctors['disease'] = diseases['prognosis']\n",
        "\n",
        "\n",
        "doctors['name'] = doc_dataset['Name']\n",
        "doctors['link'] = doc_dataset['Description']\n",
        "\n",
        "record = doctors[doctors['disease'] == 'AIDS']\n",
        "record['name']\n",
        "record['link']"
      ],
      "execution_count": null,
      "outputs": [
        {
          "output_type": "execute_result",
          "data": {
            "text/plain": [
              "1    https://www.practo.com/delhi/doctor/dr-54-gene...\n",
              "Name: link, dtype: object"
            ]
          },
          "metadata": {},
          "execution_count": 15
        }
      ]
    },
    {
      "cell_type": "code",
      "metadata": {
        "colab": {
          "base_uri": "https://localhost:8080/"
        },
        "id": "RSXG5A4H8p4d",
        "outputId": "d5e7b80b-0333-44b3-9e22-c1e786681cc3"
      },
      "source": [
        "execute_bot()"
      ],
      "execution_count": null,
      "outputs": [
        {
          "output_type": "stream",
          "text": [
            "Please reply with yes/Yes or no/No for the following symptoms\n",
            "palpitations ?\n",
            "no \n",
            "pain_behind_the_eyes ?\n",
            "no\n",
            "receiving_blood_transfusion ?\n",
            "no\n",
            "red_spots_over_body ?\n",
            "yes\n",
            "['You may have Chicken pox']\n",
            "\n",
            "symptoms present  ['red_spots_over_body']\n",
            "\n",
            "symptoms given ['itching', 'skin_rash', 'fatigue', 'lethargy', 'high_fever', 'headache', 'loss_of_appetite', 'mild_fever', 'swelled_lymph_nodes', 'malaise', 'red_spots_over_body']\n",
            "\n",
            "confidence level is 0.09090909090909091\n",
            "\n",
            "The model suggests:\n",
            "\n",
            "Consult  ['Dr. Inderjeet Singh']\n",
            "\n",
            "Visit  ['https://www.practo.com/delhi/doctor/inderjeet-singh-ayurveda-sexologist?specialization=Homoeopath&practice_id=1219975']\n"
          ],
          "name": "stdout"
        }
      ]
    }
  ]
}